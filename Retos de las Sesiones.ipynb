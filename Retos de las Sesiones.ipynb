{
  "nbformat": 4,
  "nbformat_minor": 0,
  "metadata": {
    "colab": {
      "name": "Sesion1.ipynb",
      "provenance": [],
      "authorship_tag": "ABX9TyNRWKRUcH8y1PCFmdYd5dsT",
      "include_colab_link": true
    },
    "kernelspec": {
      "name": "python3",
      "display_name": "Python 3"
    }
  },
  "cells": [
    {
      "cell_type": "markdown",
      "metadata": {
        "id": "view-in-github",
        "colab_type": "text"
      },
      "source": [
        "<a href=\"https://colab.research.google.com/github/pythonlp/lab-zero-to-hero/blob/retosv1/Retos%20de%20las%20Sesiones.ipynb\" target=\"_parent\"><img src=\"https://colab.research.google.com/assets/colab-badge.svg\" alt=\"Open In Colab\"/></a>"
      ]
    },
    {
      "cell_type": "markdown",
      "metadata": {
        "id": "3Y_ZsZtvamF3",
        "colab_type": "text"
      },
      "source": [
        "# Sesion 1"
      ]
    },
    {
      "cell_type": "markdown",
      "metadata": {
        "id": "ANuf4HHFbDu9",
        "colab_type": "text"
      },
      "source": [
        "**1. Variables**"
      ]
    },
    {
      "cell_type": "code",
      "metadata": {
        "id": "WZg1UzUhamot",
        "colab_type": "code",
        "colab": {
          "base_uri": "https://localhost:8080/",
          "height": 51
        },
        "outputId": "433be4d5-63d4-4084-eb5b-7cd26c018829"
      },
      "source": [
        "# 1. Imprimir un numero con este formato>> El resultado es 5 puntos\n",
        "numero=5\n",
        "\n",
        "##### RESPUESTA\n",
        "\n",
        "print(\"El resultado es \" + str(numero)+\" puntos\")"
      ],
      "execution_count": 5,
      "outputs": [
        {
          "output_type": "stream",
          "text": [
            "5\n",
            "El resultado es 5 puntos\n"
          ],
          "name": "stdout"
        }
      ]
    },
    {
      "cell_type": "code",
      "metadata": {
        "id": "FK0Z6J-AcRZe",
        "colab_type": "code",
        "colab": {
          "base_uri": "https://localhost:8080/",
          "height": 170
        },
        "outputId": "b797a6f8-d1aa-4eb0-c7b3-88e79e3f3677"
      },
      "source": [
        "# 2. Devolver los valores maximos, minimos, multiplicacion,suma,resta,modulo,\n",
        "#    absoluto, enteros, potencia\n",
        "num1= 3.46\n",
        "num2= 4.54\n",
        "\n",
        "##### RESPUESTA\n",
        "\n",
        "print(\"El valor min:\" + str(min(num1,num2)))\n",
        "print(\"El valor max:\" + str(max(num1,num2))) \n",
        "print(\"La multi:\" + str(num1*num2))\n",
        "print(\"La suma: \" + str(num1+num2))\n",
        "print(\"La resta: \" + str(num1-num2))\n",
        "print(\"El modulo: \" + str(num1%num2))\n",
        "print(\"El valor absoluto: \" + str(abs(num1)) + \" y \" + str(abs(num2)))\n",
        "print(\"El valor entero: \" + str(round(num1)) + \" y \" + str(round(num2)))\n",
        "print(\"La potencia del primero^segundo: \" + str(pow(num1,num2)))\n"
      ],
      "execution_count": 31,
      "outputs": [
        {
          "output_type": "stream",
          "text": [
            "El valor min:3.46\n",
            "El valor max:4.54\n",
            "La multi:15.7084\n",
            "La suma: 8.0\n",
            "La resta: -1.08\n",
            "El modulo: 3.46\n",
            "El valor absoluto: 3.46 y 4.54\n",
            "El valor entero: 3 y 5\n",
            "La potencia del primero^segundo: 280.15958699924425\n"
          ],
          "name": "stdout"
        }
      ]
    },
    {
      "cell_type": "markdown",
      "metadata": {
        "id": "lmVh5qjziBQw",
        "colab_type": "text"
      },
      "source": [
        "**2. Loops**"
      ]
    },
    {
      "cell_type": "code",
      "metadata": {
        "id": "qdUU6VpkMsL5",
        "colab_type": "code",
        "colab": {
          "base_uri": "https://localhost:8080/",
          "height": 85
        },
        "outputId": "1558f1ff-0d56-44fa-d5c5-271576e0e2ee"
      },
      "source": [
        "# 4. Dados 3 valores a,b,c, mostrar el numero mayor\n",
        "a = int(input(\"introducir primer nro:\"))\n",
        "b = int(input(\"introducir segundo nro:\"))\n",
        "c = int(input(\"introducir tercer nro:\"))\n",
        "mayor=0\n",
        "\n",
        "##### RESPUESTA\n",
        "\n",
        "if a>b and a>c:\n",
        "  mayor=a\n",
        "elif b>a and b>c:\n",
        "  mayor=b\n",
        "else:\n",
        "  mayor=c\n",
        "\n",
        "print(\"El numero: {} es el mayor\".format(mayor))"
      ],
      "execution_count": 42,
      "outputs": [
        {
          "output_type": "stream",
          "text": [
            "introducir primer nro:1\n",
            "introducir segundo nro:0\n",
            "introducir tercer nro:2\n",
            "El numero: 2 es el mayor\n"
          ],
          "name": "stdout"
        }
      ]
    },
    {
      "cell_type": "code",
      "metadata": {
        "id": "1LtuNrPLlru3",
        "colab_type": "code",
        "colab": {
          "base_uri": "https://localhost:8080/",
          "height": 51
        },
        "outputId": "024f787e-41e1-4dc4-ff19-867ba5ecf761"
      },
      "source": [
        "# 5. Dado el dia de la semana desplegar una de las opciones:\n",
        "# Si hoy es Lunes > Desplegar en mayusculas / upper\n",
        "# Si hoy es martes > Desplegar en minusculas / lower\n",
        "# Si hoy es miercoles > Desplegar la primera letra en mayusculas / capitalize\n",
        "# Si hoy es jueves > Desplegar de manera invertida, lo que esta en mayusculas a \n",
        "# minusculas y viceversa / swapcase\n",
        "# Si hoy es viernes > Desplegar como un titulo / title\n",
        "# Si hoy es Sabado > Imprimir \"Hoy es sabado\" y debajo la frase\n",
        "# Si NO ES ninguno anterior debe ser Domingo > Desplegar la palabra fin \"FIN!\"\n",
        "frase= 'Esta es la Primera Clase de Python'\n",
        "valor=input(\"Introducir un dia de la semana: \")\n",
        "\n",
        "\n",
        "##### RESPUESTA\n",
        "\n",
        "if valor==\"Lunes\" or valor == \"lunes\" or valor==\"LUNES\":\n",
        "  print(frase.upper())\n",
        "elif valor==\"Martes\" or valor == \"martes\" or valor == \"MARTES\":\n",
        "  print(frase.lower())\n",
        "elif valor==\"Miercoles\" or valor == \"miercoles\" or valor==\"MIERCOLES\":\n",
        "  print(frase.capitalize())\n",
        "elif valor==\"Jueves\" or valor == \"jueves\" or valor==\"JUEVES\":  \n",
        "  print(frase.swapcase())\n",
        "elif valor==\"Viernes\" or valor == \"viernes\" or valor==\"VIERNES\":\n",
        "  print(frase.title())\n",
        "elif  valor==\"Sabado\" or valor == \"sabado\" or valor==\"SABADO\":\n",
        "  print(\"Hoy es sabado.\\n{}\".format(frase))\n",
        "else:\n",
        "  print(\"FIN!\")"
      ],
      "execution_count": 34,
      "outputs": [
        {
          "output_type": "stream",
          "text": [
            "Introducir un dia de la semana: domingo\n",
            "FIN!\n"
          ],
          "name": "stdout"
        }
      ]
    },
    {
      "cell_type": "code",
      "metadata": {
        "id": "Fsv517LBiOyL",
        "colab_type": "code",
        "colab": {
          "base_uri": "https://localhost:8080/",
          "height": 68
        },
        "cellView": "both",
        "outputId": "dd72be61-753b-4df0-cbc6-b8893a0b0d0f"
      },
      "source": [
        "# 6.Playing Guess: Adivinanzas, el programa te preguntara la palabra secreta \n",
        "#   hasta que la adivines, tienes un limite de intentos\n",
        "# Un flag que inicia en False cambia a True cuando adivinas la palabra\n",
        "# Completa el siguiente codigo\n",
        "secret_word= \"miauuu\" #Tu defines la palabra secreta\n",
        "guess=\"\"      # Aqui se almacena la palabra que escribas desde consola\n",
        "guess_count=0 # Tu conteo de intentos comienza en 0.\n",
        "guess_limit=3 # Puedes modificar el limite de intentos, para probar.\n",
        "flag= False   # Si el flag=False imprimir \"You LOSE!\" caso contrario \"You WIN!\"\n",
        "\n",
        "##### RESPUESTA\n",
        "\n",
        "while guess != secret_word and not(flag):\n",
        "    if guess_count < guess_limit:\n",
        "        guess = input (\"Introducir palabra secreta: \")\n",
        "        guess_count += 1\n",
        "    else:\n",
        "        flag += True\n",
        "\n",
        "if flag:\n",
        "    print (\"Excediste el limite de veces, YOU LOSE!\")\n",
        "else:\n",
        "    print(\"You WIN!!! :)\")"
      ],
      "execution_count": 36,
      "outputs": [
        {
          "output_type": "stream",
          "text": [
            "Enter guess: hello\n",
            "Enter guess: miauuu\n",
            "You WIN!!! :)\n"
          ],
          "name": "stdout"
        }
      ]
    },
    {
      "cell_type": "markdown",
      "metadata": {
        "id": "E8O-87iodAGc",
        "colab_type": "text"
      },
      "source": [
        "**3. Funciones**"
      ]
    },
    {
      "cell_type": "code",
      "metadata": {
        "id": "vwSJrgOCMp5q",
        "colab_type": "code",
        "colab": {
          "base_uri": "https://localhost:8080/",
          "height": 68
        },
        "outputId": "3d9374f3-cd73-43a7-b8bc-0e9755cbb23e"
      },
      "source": [
        "# Crear un programa que te devuelva la potencia de un numero: \n",
        "# Ej Si introduces a y b (a^b), imprimir: El resultado de la potencia 2^5 es 32\n",
        "\n",
        "a=int(input(\"El valor del numero: \"))\n",
        "b=int(input(\"El valor de la potencia: \"))\n",
        "  \n",
        "\n",
        "##### RESPUESTA\n",
        "def mayor(numero,potencia):\n",
        "  return(pow(numero,potencia))\n",
        "print(\"El resultado de la potencia {}^{} es {}\".format(a,b,mayor(a,b)))"
      ],
      "execution_count": 46,
      "outputs": [
        {
          "output_type": "stream",
          "text": [
            "El valor del numero: 2\n",
            "El valor de la potencia: 5\n",
            "El resultado de la potencia 2^5 es 32\n"
          ],
          "name": "stdout"
        }
      ]
    },
    {
      "cell_type": "markdown",
      "metadata": {
        "id": "5pg6nExEbDLt",
        "colab_type": "text"
      },
      "source": [
        "**4. Manejo de Excepciones**"
      ]
    },
    {
      "cell_type": "code",
      "metadata": {
        "id": "pokF02FJdPKX",
        "colab_type": "code",
        "colab": {
          "base_uri": "https://localhost:8080/",
          "height": 255
        },
        "outputId": "10d67208-e247-4152-82cf-e19ed36acf95"
      },
      "source": [
        "#crear la calculadora basica: +-*/ con funciones, a y b ingresan desde consola\n",
        "#Validar que sean numeros, verificar divisibilidad entre 0\n",
        "# Mejorar el codigo o realizar un nuevo programa\n",
        "\n",
        "def sumar(a,b):\n",
        "  return(a+b)\n",
        "\n",
        "def restar(a,b):\n",
        "  return(a-b) \n",
        "\n",
        "def multi(a,b):\n",
        "  return(a*b)\n",
        "\n",
        "def div(a,b):\n",
        "  return(a/b)\n",
        "\n",
        "def menu():\n",
        "  print(\"Dadas las opciones en la calculadora\")\n",
        "  print(\"\\t1 - primera opcion - suma\")\n",
        "  print(\"\\t2 - segunda opcion - resta\")\n",
        "  print(\"\\t3 - tercera opcion - multiplicacion\")\n",
        "  print(\"\\t4 - cuarta opcion - division\")\n",
        "  print(\"\\t5 - quinta opcion - salir\")\n",
        "\n",
        "##### RESPUESTA OPCIONAL\n",
        "\n",
        "while True:\n",
        "  menu()\n",
        "  opciones=input(\"Selecciona una de las opciones (1-5) >> \")\n",
        "  if opciones==\"1\":\n",
        "    while True:\n",
        "      try:\n",
        "        a=int(input(\"Ingresar el valor del primer numero:\")) \n",
        "        break;\n",
        "      except ValueError:\n",
        "        print(\"Invalid input\") \n",
        "        input(\"La opcion no es correcta, pulsa cualquier tecla para continuar\")\n",
        "    while True:\n",
        "      try:\n",
        "        b=int(input(\"Ingresar el valor del segundo numero:\"))\n",
        "        total=a/b\n",
        "        break;\n",
        "      except ValueError:\n",
        "        print(\"Invalid input\")\n",
        "        input(\"La opcion no es correcta, pulsa cualquier tecla para continuar\")\n",
        "    print(\"La suma total es: \" + str(sumar(a,b)))\n",
        "    break;\n",
        "  elif opciones==\"2\":\n",
        "    while True:\n",
        "      try:\n",
        "        a=int(input(\"Ingresar el valor del primer numero:\")) \n",
        "        break;\n",
        "      except ValueError:\n",
        "        print(\"Invalid input\") \n",
        "        input(\"La opcion no es correcta, pulsa cualquier tecla para continuar\")\n",
        "    while True:\n",
        "      try:\n",
        "        b=int(input(\"Ingresar el valor del segundo numero:\"))\n",
        "        total=a/b\n",
        "        break;\n",
        "      except ValueError:\n",
        "        print(\"Invalid input\")\n",
        "        input(\"La opcion no es correcta, pulsa cualquier tecla para continuar\")\n",
        "    print(\"La resta es: \" + str(restar(a,b)))\n",
        "    break;\n",
        "  elif opciones==\"3\":\n",
        "    while True:\n",
        "      try:\n",
        "        a=int(input(\"Ingresar el valor del primer numero:\")) \n",
        "        break;\n",
        "      except ValueError:\n",
        "        print(\"Invalid input\") \n",
        "        input(\"La opcion no es correcta, pulsa cualquier tecla para continuar\")\n",
        "    while True:\n",
        "      try:\n",
        "        b=int(input(\"Ingresar el valor del segundo numero:\"))\n",
        "        total=a/b\n",
        "        break;\n",
        "      except ValueError:\n",
        "        print(\"Invalid input\")\n",
        "        input(\"La opcion no es correcta, pulsa cualquier tecla para continuar\")\n",
        "    print(\"La multiplicacion es: \" + str(multi(a,b)))\n",
        "    break;\n",
        "  elif opciones==\"4\":\n",
        "    while True:\n",
        "      try:\n",
        "        a=int(input(\"Ingresar el valor del primer numero:\")) \n",
        "        break;\n",
        "      except ValueError:\n",
        "        print(\"Invalid input\") \n",
        "        input(\"La opcion no es correcta, pulsa cualquier tecla para continuar\")\n",
        "    while True:\n",
        "      try:\n",
        "        b=int(input(\"Ingresar el valor del segundo numero:\"))\n",
        "        total=a/b\n",
        "        break;\n",
        "      except ValueError:\n",
        "        print(\"Invalid input\")\n",
        "        input(\"La opcion no es correcta, pulsa cualquier tecla para continuar\")\n",
        "      except ZeroDivisionError as err:\n",
        "        print(err)\n",
        "        input(\"La opcion no es correcta, pulsa cualquier tecla para continuar\")\n",
        "    print(\"La division es: \" + str(div(a,b)))\n",
        "    break;\n",
        "  elif opciones==\"5\":\n",
        "    break;\n",
        "  else:\n",
        "    print(\"\")\n",
        "    input(\"La opcion no es correcta, pulsa cualquier tecla para continuar\")\n"
      ],
      "execution_count": 60,
      "outputs": [
        {
          "output_type": "stream",
          "text": [
            "Selecciona una opcion \n",
            " \n",
            "\t1 - primera opcion - suma\n",
            "\t2 - segunda opcion - resta\n",
            "\t3 - tercera opcion - multiplicacion\n",
            "\t4 - cuarta opcion - division\n",
            "\t5 - quinta opcion - salir\n",
            "Inserta un valor del 1 al 4>>4\n",
            "Ingresar el valor del primer numero:3\n",
            "Ingresar el valor del segundo numero:0\n",
            "division by zero\n",
            "La opcion no es correcta, pulsa cualquier tecla para continuar\n",
            "Ingresar el valor del segundo numero:2\n",
            "La division es: 1.5\n"
          ],
          "name": "stdout"
        }
      ]
    },
    {
      "cell_type": "markdown",
      "metadata": {
        "id": "MrRvWiKmA_7m",
        "colab_type": "text"
      },
      "source": [
        "**5. Estructura de datos**"
      ]
    },
    {
      "cell_type": "code",
      "metadata": {
        "id": "1ToF1xeR8i2j",
        "colab_type": "code",
        "colab": {
          "base_uri": "https://localhost:8080/",
          "height": 136
        },
        "outputId": "e6f2587c-bf4c-4f5a-ec4c-1804e0263403"
      },
      "source": [
        "#Crear un detalle de compras con su respectivo Total a pagar: \n",
        "#1 Usuario ingresa articulos c/u con costo{articulo:costo},decide cuando terminar\n",
        "#2 Una lista contiene las monedas [Bolivianos, Dolares, Euros] \n",
        "#3 En un nuevo diccionario se almacenara el articulo, precio, unidad de medida\n",
        "#4 Se imprimira el detalle del total a pagar con su moneda\n",
        "producto={}\n",
        "#unidad=(Unidad,Kilogramo,Libra,Litro)\n",
        "moneda=[\"Bolivianos\", \"Dolares\", \"Euros\"]\n",
        "\n",
        "##### RESPUESTA Opcional Pueden mejorar el codigo\n",
        "\n",
        "def adicionar():\n",
        "  while True:\n",
        "    flag=input(\"Desea ingresar un producto? Pulse Y/n\")\n",
        "    if flag==\"Y\" or flag==\"y\":\n",
        "      name=input(\"Ingrese el nombre del  producto: \")\n",
        "      precio=input(\"Ingrese el precio del  producto: \")\n",
        "      producto[name]=precio\n",
        "    else:\n",
        "      return producto\n",
        "      break;  \n",
        "  \n",
        "\n",
        "def imprimir_total(prod,moneda):\n",
        "  opcion=input(\"Ingrese el tipo de moneda de los productos: \")\n",
        "  total=0\n",
        "  for index in prod:\n",
        "    total+=int(prod[index])\n",
        "    print((index,prod[index]))\n",
        "  print(\"El total es:{} {}\".format(total,opcion))\n",
        "\n",
        "\n",
        "producto=adicionar()\n",
        "if producto!={}:\n",
        "  imprimir_total(producto,moneda)\n",
        "  \n",
        "else:\n",
        "  print(\"Intente nuevamente despues\")\n"
      ],
      "execution_count": 77,
      "outputs": [
        {
          "output_type": "stream",
          "text": [
            "Desea ingresar un producto? Pulse Y/ny\n",
            "Ingrese el nombre del  producto: leche\n",
            "Ingrese el precio del  producto: 3\n",
            "Desea ingresar un producto? Pulse Y/nn\n",
            "Ingrese el tipo de moneda de los productos: bol\n",
            "('leche', '3')\n",
            "El total es:3 bol\n"
          ],
          "name": "stdout"
        }
      ]
    },
    {
      "cell_type": "markdown",
      "metadata": {
        "id": "m-8YPf5wBHX6",
        "colab_type": "text"
      },
      "source": [
        "**Programacion Orientada a Objetos**"
      ]
    },
    {
      "cell_type": "code",
      "metadata": {
        "id": "NjlQlD-oBHjO",
        "colab_type": "code",
        "colab": {}
      },
      "source": [
        ""
      ],
      "execution_count": 0,
      "outputs": []
    },
    {
      "cell_type": "markdown",
      "metadata": {
        "id": "u9ZjBPDCBHxj",
        "colab_type": "text"
      },
      "source": [
        "**Metodos de Strings y Numeros**"
      ]
    },
    {
      "cell_type": "code",
      "metadata": {
        "id": "bPRc6jkWBH8U",
        "colab_type": "code",
        "colab": {}
      },
      "source": [
        ""
      ],
      "execution_count": 0,
      "outputs": []
    },
    {
      "cell_type": "markdown",
      "metadata": {
        "id": "Vjnng9i6BiKm",
        "colab_type": "text"
      },
      "source": [
        "**Manejo de Archivos y Paquetes**"
      ]
    },
    {
      "cell_type": "code",
      "metadata": {
        "id": "4YXcjDmRBiUj",
        "colab_type": "code",
        "colab": {}
      },
      "source": [
        ""
      ],
      "execution_count": 0,
      "outputs": []
    },
    {
      "cell_type": "markdown",
      "metadata": {
        "id": "AZT1lUS3BwvA",
        "colab_type": "text"
      },
      "source": [
        "**Numpy y Pandas**"
      ]
    },
    {
      "cell_type": "code",
      "metadata": {
        "id": "Yst_BEarBw33",
        "colab_type": "code",
        "colab": {}
      },
      "source": [
        ""
      ],
      "execution_count": 0,
      "outputs": []
    }
  ]
}